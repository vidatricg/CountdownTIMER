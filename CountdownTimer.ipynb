{
 "cells": [
  {
   "cell_type": "code",
   "execution_count": 10,
   "id": "aaae7233-b10b-4148-9baf-ae29463bd49a",
   "metadata": {},
   "outputs": [
    {
     "name": "stdin",
     "output_type": "stream",
     "text": [
      "Enter seconds 45\n"
     ]
    },
    {
     "name": "stdout",
     "output_type": "stream",
     "text": [
      "00:00:45\n",
      "00:00:44\n",
      "00:00:43\n",
      "00:00:42\n",
      "00:00:41\n",
      "00:00:40\n",
      "00:00:39\n",
      "00:00:38\n",
      "00:00:37\n",
      "00:00:36\n",
      "00:00:35\n",
      "00:00:34\n",
      "00:00:33\n",
      "00:00:32\n",
      "00:00:31\n",
      "00:00:30\n",
      "00:00:29\n",
      "00:00:28\n",
      "00:00:27\n",
      "00:00:26\n",
      "00:00:25\n",
      "00:00:24\n",
      "00:00:23\n",
      "00:00:22\n",
      "00:00:21\n",
      "00:00:20\n",
      "00:00:19\n",
      "00:00:18\n",
      "00:00:17\n",
      "00:00:16\n",
      "00:00:15\n",
      "00:00:14\n",
      "00:00:13\n",
      "00:00:12\n",
      "00:00:11\n",
      "00:00:10\n",
      "00:00:09\n",
      "00:00:08\n",
      "00:00:07\n",
      "00:00:06\n",
      "00:00:05\n",
      "00:00:04\n",
      "00:00:03\n",
      "00:00:02\n",
      "00:00:01\n",
      "Time UP\n"
     ]
    }
   ],
   "source": [
    "import time\n",
    "input_time=int(input(\"Enter seconds\"))\n",
    "for x in range(input_time,0,-1):\n",
    "    seconds= x % 60\n",
    "    minutes=int(x/60)%60\n",
    "    hours=int(x/3600)\n",
    "    print(f\"{hours:02}:{minutes:02}:{seconds:02}\")\n",
    "    time.sleep(1)\n",
    "\n",
    "print(\"Time UP\")"
   ]
  },
  {
   "cell_type": "code",
   "execution_count": null,
   "id": "c3433210-144a-4aaf-88a5-de9e3290a79f",
   "metadata": {},
   "outputs": [],
   "source": []
  }
 ],
 "metadata": {
  "kernelspec": {
   "display_name": "Python 3 (ipykernel)",
   "language": "python",
   "name": "python3"
  },
  "language_info": {
   "codemirror_mode": {
    "name": "ipython",
    "version": 3
   },
   "file_extension": ".py",
   "mimetype": "text/x-python",
   "name": "python",
   "nbconvert_exporter": "python",
   "pygments_lexer": "ipython3",
   "version": "3.12.3"
  }
 },
 "nbformat": 4,
 "nbformat_minor": 5
}
